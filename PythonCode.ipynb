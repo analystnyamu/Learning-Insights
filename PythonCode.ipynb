{
  "cells": [
    {
      "cell_type": "raw",
      "metadata": {},
      "source": [
        "---\n",
        "title: \"Python Code in Quarto Document\"\n",
        "format: html\n",
        "editor: visual\n",
        "---"
      ],
      "id": "f3f24d69"
    },
    {
      "cell_type": "markdown",
      "metadata": {},
      "source": [
        "## Use of Python Code in Quarto Document\n",
        "\n",
        "To use Python code in a Quarto document, you can embed Python code chunks in your `.qmd` file. Quarto supports several programming languages, including Python, and allows you to execute code in the document, similar to how `Jupyter Notebooks` work.\n",
        "\n",
        "Here’s how to include and run Python code in a Quarto document.\n",
        "\n",
        "## Steps To Follow\n",
        "\n",
        "1. **Install Required Tools**\n",
        "\n",
        "*   Make sure you have **Python** installed.\n",
        "\n",
        "*   Install **Jupyter** if you haven't already, as Quarto uses Jupyter to execute Python code.\n",
        "\n",
        "You can install Jupyter using the following command:\n",
        "\n",
        "\n",
        "```{bash}\n",
        "pip install jupyter\n",
        "```\n",
        "\n",
        "\n",
        "2. **Set up Quarto**\n",
        "\n",
        "*   Install Quarto if you haven't done so. You can download and install it from [quarto.org](https://quarto.org/)\n",
        "\n",
        "3. **Write Python Code in Quarto Document**\n",
        "\n",
        "In your Quarto document `(.qmd)`, you can include Python code chunks by specifying `{python}` at the start of the chunk.\n",
        "\n",
        "\n",
        "```{markdown}\n",
        "---\n",
        "title: \"Python in Quarto\"\n",
        "format:\n",
        "  html: default\n",
        "  pdf: default\n",
        "---\n",
        "\n",
        "# Python Example in Quarto\n",
        "\n",
        "Here’s a simple Python example embedded in a Quarto document."
      ],
      "id": "cb04e095"
    },
    {
      "cell_type": "code",
      "metadata": {},
      "source": [
        "# Python code\n",
        "import numpy as np\n",
        "\n",
        "# Generate random numbers\n",
        "random_numbers = np.random.rand(5)\n",
        "random_numbers"
      ],
      "id": "70c7ed31",
      "execution_count": null,
      "outputs": []
    },
    {
      "cell_type": "markdown",
      "metadata": {},
      "source": [
        "```{yaml}\n",
        "\n",
        "### 4. Render the Quarto Document\n",
        "\n",
        "You can render the Quarto document using:\n",
        "\n",
        "- In the terminal: \n",
        "\n",
        "quarto render your_document.qmd\n",
        "```\n",
        "\n",
        "\n",
        "*   In Visual Studio Code or RStudio: Use the **Render** button if you are working with these editors.\n",
        "The output will include both the code and its result in the specified format (HTML, PDF, etc.).\n",
        "\n",
        "5. **Output Formats**\n",
        "\n",
        "Quarto supports various output formats (e.g., HTML, PDF, MS Word). Specify the format in the YAML header at the top of your .qmd file:\n",
        "\n",
        "\n",
        "```{yaml}\n",
        "---\n",
        "title: \"Python Example in Quarto\"\n",
        "format: \n",
        "  html: default\n",
        "  pdf: default\n",
        "---\n",
        "```\n",
        "\n",
        "\n",
        "**Example of a Full Quarto Document with Python Code**\n",
        "\n",
        "\n",
        "```{markdown}\n",
        "---\n",
        "title: \"Python in Quarto Example\"\n",
        "format: html\n",
        "---\n",
        "\n",
        "# Using Python in Quarto\n",
        "\n",
        "You can run Python code directly within Quarto documents."
      ],
      "id": "7c515069"
    },
    {
      "cell_type": "code",
      "metadata": {},
      "source": [
        "# Import the necessary library\n",
        "import numpy as np\n",
        "\n",
        "# Generate 10 random numbers\n",
        "random_numbers = np.random.rand(10)\n",
        "random_numbers"
      ],
      "id": "aec1a395",
      "execution_count": null,
      "outputs": []
    },
    {
      "cell_type": "markdown",
      "metadata": {},
      "source": [
        "The output of the Python code will be rendered inline in your document.\n",
        "\n",
        "\n",
        "```{markdown}\n",
        "\n",
        "### 6. Additional Tips\n",
        "- **Code Chunk Options**: You can control the output behavior of Python code chunks using options like `echo`, `eval`, `include`, and `results`.\n",
        "  - `echo`: Whether to show the code in the output (`true` or `false`).\n",
        "  - `eval`: Whether to evaluate the code chunk (`true` or `false`).\n",
        "  - `results`: How to display the results (`\"asis\"` for raw output, `\"hide\"` to hide results).\n",
        "\n",
        "Example:"
      ],
      "id": "509988b1"
    },
    {
      "cell_type": "code",
      "metadata": {},
      "source": [
        "print(\"This is a Python print statement\")"
      ],
      "id": "90412fd3",
      "execution_count": null,
      "outputs": []
    }
  ],
  "metadata": {
    "kernelspec": {
      "name": "python3",
      "language": "python",
      "display_name": "Python 3"
    }
  },
  "nbformat": 4,
  "nbformat_minor": 5
}